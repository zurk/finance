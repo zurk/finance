{
 "cells": [
  {
   "cell_type": "markdown",
   "metadata": {},
   "source": [
    "# Expences analysis for Tinkoff  debit card.\n",
    "\n",
    "1. Download all your transactions data at https://www.tinkoff.ru/events/feed/ (press `...`) and save it to `\"./operations.xls\"` file\n",
    "2. Run the code"
   ]
  },
  {
   "cell_type": "markdown",
   "metadata": {},
   "source": [
    "## TODO\n",
    "1. Plots in time by category\n",
    "2. Consider income transactions - outcome\n",
    "2. Descriptions"
   ]
  },
  {
   "cell_type": "code",
   "execution_count": null,
   "metadata": {},
   "outputs": [],
   "source": [
    "import pandas as pd\n",
    "import seaborn as sns\n",
    "\n",
    "from bokeh.io import output_notebook, show\n",
    "from bokeh.models import ColumnDataSource\n",
    "from bokeh.plotting import figure\n",
    "import matplotlib.pyplot as plt\n",
    "output_notebook()"
   ]
  },
  {
   "cell_type": "code",
   "execution_count": null,
   "metadata": {},
   "outputs": [],
   "source": [
    "tinkoff_datapath = \"./operations.xls\"\n",
    "tinkoff_data = pd.read_excel(tinkoff_datapath, encoding=\"ascii\")"
   ]
  },
  {
   "cell_type": "code",
   "execution_count": null,
   "metadata": {},
   "outputs": [],
   "source": [
    "tinkoff_data.head()"
   ]
  },
  {
   "cell_type": "code",
   "execution_count": null,
   "metadata": {},
   "outputs": [],
   "source": [
    "tinkoff_data.columns = [\n",
    "    \"time\", \"date_op\", \"card\", \"status\", \n",
    "    \"amount_op\", \"currency_op\", \"amount\", \"currency\",\n",
    "    \"cashback\", \"category\", \"MCC\", \"description\", \"bonuses\"]\n",
    "tinkoff_data = tinkoff_data[tinkoff_data.status == \"OK\"]\n",
    "tinkoff_data.drop([\n",
    "    \"date_op\", \"card\", \"status\", \"cashback\", \"bonuses\"\n",
    "], axis=1, inplace=True)\n",
    "tinkoff_data.time = pd.to_datetime(tinkoff_data.time, format=\"%d.%m.%Y %H:%M:%S\")\n",
    "period = tinkoff_data.time.max() - tinkoff_data.time.min()"
   ]
  },
  {
   "cell_type": "code",
   "execution_count": null,
   "metadata": {},
   "outputs": [],
   "source": [
    "monthes = period.days/30.4"
   ]
  },
  {
   "cell_type": "code",
   "execution_count": null,
   "metadata": {},
   "outputs": [],
   "source": [
    "tinkoff_data.describe()"
   ]
  },
  {
   "cell_type": "code",
   "execution_count": null,
   "metadata": {},
   "outputs": [],
   "source": [
    "tinkoff_data.describe(exclude=[\"float64\"])"
   ]
  },
  {
   "cell_type": "code",
   "execution_count": null,
   "metadata": {},
   "outputs": [],
   "source": [
    "tinkoff_data.currency.unique()"
   ]
  },
  {
   "cell_type": "code",
   "execution_count": null,
   "metadata": {},
   "outputs": [],
   "source": [
    "rub_expenses = tinkoff_data[(tinkoff_data.currency_op == \"RUB\") & \n",
    "                            (tinkoff_data.amount_op < 0)]\n"
   ]
  },
  {
   "cell_type": "code",
   "execution_count": null,
   "metadata": {},
   "outputs": [],
   "source": [
    "rub_expenses"
   ]
  },
  {
   "cell_type": "code",
   "execution_count": null,
   "metadata": {},
   "outputs": [],
   "source": [
    "data = -rub_expenses.groupby(\"category\").agg({\"amount_op\": \"sum\"})/monthes\n",
    "data.sort_values(\"amount_op\", inplace=True)\n",
    "data = data[data.amount_op > 50]\n",
    "data = data[~data.index.isin([\"Финан. услуги\", \"Переводы\", \"Переводы/иб\", \"Финан. услуги\"])]\n",
    "print(\"Mounthly expenses:\", data.sum())\n",
    "source = ColumnDataSource(data)\n",
    "p = figure(y_range=data.index.tolist(), plot_height=550, plot_width=950, title=\"Expenses by category. Total\")\n",
    "p.hbar(y=\"category\", right=\"amount_op\", height=0.9, source=source)\n",
    "p.x_range.start = 0\n",
    "show(p)"
   ]
  },
  {
   "cell_type": "code",
   "execution_count": null,
   "metadata": {},
   "outputs": [],
   "source": [
    "data.plot.pie(y='amount_op', figsize=(10, 10), legend=False)"
   ]
  },
  {
   "cell_type": "code",
   "execution_count": null,
   "metadata": {
    "scrolled": false
   },
   "outputs": [],
   "source": [
    "data = -rub_expenses[rub_expenses.category == \"Супермаркеты\"].groupby(\"description\").agg({\"amount_op\": \"sum\"})/monthes\n",
    "data.sort_values(\"amount_op\", inplace=True)\n",
    "#data = data[data.amount_op > 1000]\n",
    "#data = data[~data.index.isin([\"Финан. услуги\", \"Переводы\", \"Переводы/иб\", \"Наличные\", \"Финан. услуги\"])]\n",
    "source = ColumnDataSource(data)\n",
    "p = figure(y_range=data.index.tolist(), plot_height=550, plot_width=950, title=\"Expenses by category. Total\")\n",
    "p.hbar(y=\"description\", right=\"amount_op\", height=0.9, source=source)\n",
    "p.xgrid.grid_line_color = None\n",
    "p.x_range.start = 0\n",
    "show(p)"
   ]
  },
  {
   "cell_type": "code",
   "execution_count": null,
   "metadata": {
    "scrolled": false
   },
   "outputs": [],
   "source": [
    "data = -rub_expenses.groupby(\"description\").agg({\"amount_op\": \"sum\"})/monthes\n",
    "data.sort_values(\"amount_op\", inplace=True)\n",
    "data = data[data.amount_op > 500]\n",
    "source = ColumnDataSource(data)\n",
    "p = figure(y_range=data.index.tolist(), plot_height=1000, plot_width=950, title=\"Expenses by category. Total\")\n",
    "p.hbar(y=\"description\", right=\"amount_op\", height=0.9, source=source)\n",
    "p.xgrid.grid_line_color = None\n",
    "p.x_range.start = 0\n",
    "show(p)"
   ]
  }
 ],
 "metadata": {
  "kernelspec": {
   "display_name": "Python 3",
   "language": "python",
   "name": "python3"
  },
  "language_info": {
   "codemirror_mode": {
    "name": "ipython",
    "version": 3
   },
   "file_extension": ".py",
   "mimetype": "text/x-python",
   "name": "python",
   "nbconvert_exporter": "python",
   "pygments_lexer": "ipython3",
   "version": "3.7.1"
  }
 },
 "nbformat": 4,
 "nbformat_minor": 2
}
